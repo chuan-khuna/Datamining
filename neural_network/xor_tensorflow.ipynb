{
 "cells": [
  {
   "cell_type": "code",
   "execution_count": 1,
   "metadata": {},
   "outputs": [
    {
     "name": "stderr",
     "output_type": "stream",
     "text": [
      "c:\\users\\chuan\\appdata\\local\\programs\\python\\python36\\lib\\site-packages\\tensorflow\\python\\framework\\dtypes.py:516: FutureWarning: Passing (type, 1) or '1type' as a synonym of type is deprecated; in a future version of numpy, it will be understood as (type, (1,)) / '(1,)type'.\n",
      "  _np_qint8 = np.dtype([(\"qint8\", np.int8, 1)])\n",
      "c:\\users\\chuan\\appdata\\local\\programs\\python\\python36\\lib\\site-packages\\tensorflow\\python\\framework\\dtypes.py:517: FutureWarning: Passing (type, 1) or '1type' as a synonym of type is deprecated; in a future version of numpy, it will be understood as (type, (1,)) / '(1,)type'.\n",
      "  _np_quint8 = np.dtype([(\"quint8\", np.uint8, 1)])\n",
      "c:\\users\\chuan\\appdata\\local\\programs\\python\\python36\\lib\\site-packages\\tensorflow\\python\\framework\\dtypes.py:518: FutureWarning: Passing (type, 1) or '1type' as a synonym of type is deprecated; in a future version of numpy, it will be understood as (type, (1,)) / '(1,)type'.\n",
      "  _np_qint16 = np.dtype([(\"qint16\", np.int16, 1)])\n",
      "c:\\users\\chuan\\appdata\\local\\programs\\python\\python36\\lib\\site-packages\\tensorflow\\python\\framework\\dtypes.py:519: FutureWarning: Passing (type, 1) or '1type' as a synonym of type is deprecated; in a future version of numpy, it will be understood as (type, (1,)) / '(1,)type'.\n",
      "  _np_quint16 = np.dtype([(\"quint16\", np.uint16, 1)])\n",
      "c:\\users\\chuan\\appdata\\local\\programs\\python\\python36\\lib\\site-packages\\tensorflow\\python\\framework\\dtypes.py:520: FutureWarning: Passing (type, 1) or '1type' as a synonym of type is deprecated; in a future version of numpy, it will be understood as (type, (1,)) / '(1,)type'.\n",
      "  _np_qint32 = np.dtype([(\"qint32\", np.int32, 1)])\n",
      "c:\\users\\chuan\\appdata\\local\\programs\\python\\python36\\lib\\site-packages\\tensorflow\\python\\framework\\dtypes.py:525: FutureWarning: Passing (type, 1) or '1type' as a synonym of type is deprecated; in a future version of numpy, it will be understood as (type, (1,)) / '(1,)type'.\n",
      "  np_resource = np.dtype([(\"resource\", np.ubyte, 1)])\n",
      "c:\\users\\chuan\\appdata\\local\\programs\\python\\python36\\lib\\site-packages\\tensorboard\\compat\\tensorflow_stub\\dtypes.py:541: FutureWarning: Passing (type, 1) or '1type' as a synonym of type is deprecated; in a future version of numpy, it will be understood as (type, (1,)) / '(1,)type'.\n",
      "  _np_qint8 = np.dtype([(\"qint8\", np.int8, 1)])\n",
      "c:\\users\\chuan\\appdata\\local\\programs\\python\\python36\\lib\\site-packages\\tensorboard\\compat\\tensorflow_stub\\dtypes.py:542: FutureWarning: Passing (type, 1) or '1type' as a synonym of type is deprecated; in a future version of numpy, it will be understood as (type, (1,)) / '(1,)type'.\n",
      "  _np_quint8 = np.dtype([(\"quint8\", np.uint8, 1)])\n",
      "c:\\users\\chuan\\appdata\\local\\programs\\python\\python36\\lib\\site-packages\\tensorboard\\compat\\tensorflow_stub\\dtypes.py:543: FutureWarning: Passing (type, 1) or '1type' as a synonym of type is deprecated; in a future version of numpy, it will be understood as (type, (1,)) / '(1,)type'.\n",
      "  _np_qint16 = np.dtype([(\"qint16\", np.int16, 1)])\n",
      "c:\\users\\chuan\\appdata\\local\\programs\\python\\python36\\lib\\site-packages\\tensorboard\\compat\\tensorflow_stub\\dtypes.py:544: FutureWarning: Passing (type, 1) or '1type' as a synonym of type is deprecated; in a future version of numpy, it will be understood as (type, (1,)) / '(1,)type'.\n",
      "  _np_quint16 = np.dtype([(\"quint16\", np.uint16, 1)])\n",
      "c:\\users\\chuan\\appdata\\local\\programs\\python\\python36\\lib\\site-packages\\tensorboard\\compat\\tensorflow_stub\\dtypes.py:545: FutureWarning: Passing (type, 1) or '1type' as a synonym of type is deprecated; in a future version of numpy, it will be understood as (type, (1,)) / '(1,)type'.\n",
      "  _np_qint32 = np.dtype([(\"qint32\", np.int32, 1)])\n",
      "c:\\users\\chuan\\appdata\\local\\programs\\python\\python36\\lib\\site-packages\\tensorboard\\compat\\tensorflow_stub\\dtypes.py:550: FutureWarning: Passing (type, 1) or '1type' as a synonym of type is deprecated; in a future version of numpy, it will be understood as (type, (1,)) / '(1,)type'.\n",
      "  np_resource = np.dtype([(\"resource\", np.ubyte, 1)])\n"
     ]
    }
   ],
   "source": [
    "import tensorflow as tf\n",
    "import numpy as np\n",
    "import pandas as pd\n",
    "import time\n",
    "\n",
    "import matplotlib.pyplot as plt\n",
    "import seaborn as sns\n",
    "\n",
    "sns.set_style(\"whitegrid\")\n",
    "sns.set_palette(sns.color_palette(\"Set2\"))\n",
    "sns.set_context('notebook', font_scale=1.25, rc={\"lines.linewidth\": 3})"
   ]
  },
  {
   "cell_type": "code",
   "execution_count": 2,
   "metadata": {},
   "outputs": [],
   "source": [
    "XOR_X = [[0, 0], [0, 1], [1, 0], [1, 1]]\n",
    "XOR_Y = [[0], [1], [1], [0]]"
   ]
  },
  {
   "cell_type": "code",
   "execution_count": 3,
   "metadata": {},
   "outputs": [],
   "source": [
    "# Setting up Tensorflow vaiables (inputs, weights, and biases)\n",
    "x_ = tf.placeholder(tf.float32, shape=[4,2], name=\"x-input\")\n",
    "y_ = tf.placeholder(tf.float32, shape=[4,1], name=\"y-input\")\n",
    "\n",
    "w1 = tf.Variable(tf.random_uniform([2,2], -1, 1), name=\"w1\")\n",
    "w2 = tf.Variable(tf.random_uniform([2,1], -1, 1), name=\"w2\")\n",
    "b1 = tf.Variable(tf.zeros([2]), name=\"b1\")\n",
    "b2 = tf.Variable(tf.zeros([1]), name=\"b2\")"
   ]
  },
  {
   "cell_type": "code",
   "execution_count": 4,
   "metadata": {},
   "outputs": [],
   "source": [
    "# Building Model\n",
    "layer1 = tf.tanh(tf.matmul(x_, w1) + b1)\n",
    "layer2 = tf.sigmoid(tf.matmul(layer1, w2) + b2)"
   ]
  },
  {
   "cell_type": "code",
   "execution_count": 5,
   "metadata": {},
   "outputs": [],
   "source": [
    "# cost function\n",
    "cost_function = tf.reduce_mean(((y_ * tf.log(layer2)) + ((1 - y_) * tf.log(1.0 - layer2))) * -1)\n",
    "train_step = lambda learning_rate: tf.train.GradientDescentOptimizer(learning_rate).minimize(cost_function)"
   ]
  },
  {
   "cell_type": "code",
   "execution_count": 128,
   "metadata": {},
   "outputs": [
    {
     "name": "stdout",
     "output_type": "stream",
     "text": [
      "epochs: 5 \t elpesed: 0.18 s\n",
      "initial cost: 0.6891343593597412\n",
      "cost: 0.6858043074607849\n"
     ]
    }
   ],
   "source": [
    "epochs = 5\n",
    "start_time = time.time()\n",
    "lr = 0.1\n",
    "training = train_step(lr)\n",
    "\n",
    "costs = []\n",
    "weight1 = []\n",
    "bias1 = []\n",
    "weight2 = []\n",
    "bias2 = []\n",
    "\n",
    "init = tf.global_variables_initializer()\n",
    "sess = tf.Session()\n",
    "sess.run(init)\n",
    "\n",
    "initial_cost = float(sess.run(cost_function, feed_dict={x_: XOR_X, y_: XOR_Y}))\n",
    "costs.append(initial_cost)\n",
    "weight1.append(sess.run(w1))\n",
    "weight2.append(sess.run(w2))\n",
    "bias1.append(sess.run(b1))\n",
    "bias2.append(sess.run(b2))\n",
    "\n",
    "for i in range(epochs):\n",
    "    error = sess.run(training, feed_dict={x_: XOR_X, y_: XOR_Y})\n",
    "    cost = float(sess.run(cost_function, feed_dict={x_: XOR_X, y_: XOR_Y}))\n",
    "    costs.append(round(cost, 4))\n",
    "    weight1.append(sess.run(w1))\n",
    "    weight2.append(sess.run(w2))\n",
    "    bias1.append(sess.run(b1))\n",
    "    bias2.append(sess.run(b2))\n",
    "\n",
    "print(f\"epochs: {epochs} \\t elpesed: {round(time.time() - start_time, 2)} s\")\n",
    "print(f\"initial cost: {initial_cost}\")\n",
    "print(f\"cost: {cost}\")"
   ]
  },
  {
   "cell_type": "code",
   "execution_count": 129,
   "metadata": {},
   "outputs": [],
   "source": [
    "iterations = np.arange(0, len(costs), 1)\n",
    "costs = np.array(costs)"
   ]
  },
  {
   "cell_type": "code",
   "execution_count": 130,
   "metadata": {},
   "outputs": [
    {
     "data": {
      "text/plain": [
       "<matplotlib.axes._subplots.AxesSubplot at 0x23c0098b048>"
      ]
     },
     "execution_count": 130,
     "metadata": {},
     "output_type": "execute_result"
    },
    {
     "data": {
      "image/png": "[encoded data removed]",
      "text/plain": [
       "<matplotlib.figure.Figure at 0x23c00383630>"
      ]
     },
     "metadata": {
      "needs_background": "light"
     },
     "output_type": "display_data"
    }
   ],
   "source": [
    "fig = plt.figure(figsize=(8, 5), dpi=100)\n",
    "sns.lineplot(iterations, costs)"
   ]
  },
  {
   "cell_type": "code",
   "execution_count": 140,
   "metadata": {},
   "outputs": [],
   "source": [
    "weight1 = np.array(weight1)\n",
    "bias1 = np.array(bias1)\n",
    "weight2 = np.array(weight2)\n",
    "bias2 = np.array(bias2)\n",
    "df = pd.DataFrame({\n",
    "    'iteration': iterations,\n",
    "    'cost': costs,\n",
    "    'l1_n1_w0': bias1[:, 0],\n",
    "    'l1_n1_w1': weight1[:, 0, 0],\n",
    "    'l1_n1_w2': weight1[:, 0, 1],\n",
    "    'l1_n2_w0': bias1[:, 1],\n",
    "    'l1_n2_w1': weight1[:, 1, 0],\n",
    "    'l1_n2_w2': weight1[:, 1, 1],\n",
    "    'l2_n1_w0': bias1[:, 0],\n",
    "    'l2_n1_w1': weight2[:, 0, 0],\n",
    "    'l2_n1_w2': weight2[:, 1, 0]\n",
    "})"
   ]
  },
  {
   "cell_type": "code",
   "execution_count": 143,
   "metadata": {},
   "outputs": [
    {
     "data": {
      "text/html": [
       "<div>\n",
       "<style scoped>\n",
       "    .dataframe tbody tr th:only-of-type {\n",
       "        vertical-align: middle;\n",
       "    }\n",
       "\n",
       "    .dataframe tbody tr th {\n",
       "        vertical-align: top;\n",
       "    }\n",
       "\n",
       "    .dataframe thead th {\n",
       "        text-align: right;\n",
       "    }\n",
       "</style>\n",
       "<table border=\"1\" class=\"dataframe\">\n",
       "  <thead>\n",
       "    <tr style=\"text-align: right;\">\n",
       "      <th></th>\n",
       "      <th>iteration</th>\n",
       "      <th>cost</th>\n",
       "      <th>l1_n1_w0</th>\n",
       "      <th>l1_n1_w1</th>\n",
       "      <th>l1_n1_w2</th>\n",
       "      <th>l1_n2_w0</th>\n",
       "      <th>l1_n2_w1</th>\n",
       "      <th>l1_n2_w2</th>\n",
       "      <th>l2_n1_w0</th>\n",
       "      <th>l2_n1_w1</th>\n",
       "      <th>l2_n1_w2</th>\n",
       "    </tr>\n",
       "  </thead>\n",
       "  <tbody>\n",
       "    <tr>\n",
       "      <td>0</td>\n",
       "      <td>0</td>\n",
       "      <td>0.689134</td>\n",
       "      <td>0.000000</td>\n",
       "      <td>-0.224981</td>\n",
       "      <td>-0.319880</td>\n",
       "      <td>0.000000</td>\n",
       "      <td>0.807590</td>\n",
       "      <td>-0.648327</td>\n",
       "      <td>0.000000</td>\n",
       "      <td>-0.288634</td>\n",
       "      <td>-0.830364</td>\n",
       "    </tr>\n",
       "    <tr>\n",
       "      <td>1</td>\n",
       "      <td>1</td>\n",
       "      <td>0.688400</td>\n",
       "      <td>0.002222</td>\n",
       "      <td>-0.224649</td>\n",
       "      <td>-0.322145</td>\n",
       "      <td>0.002090</td>\n",
       "      <td>0.809090</td>\n",
       "      <td>-0.648723</td>\n",
       "      <td>0.002222</td>\n",
       "      <td>-0.291841</td>\n",
       "      <td>-0.828248</td>\n",
       "    </tr>\n",
       "    <tr>\n",
       "      <td>2</td>\n",
       "      <td>2</td>\n",
       "      <td>0.687700</td>\n",
       "      <td>0.004408</td>\n",
       "      <td>-0.224355</td>\n",
       "      <td>-0.324464</td>\n",
       "      <td>0.004018</td>\n",
       "      <td>0.810577</td>\n",
       "      <td>-0.649197</td>\n",
       "      <td>0.004408</td>\n",
       "      <td>-0.295003</td>\n",
       "      <td>-0.826244</td>\n",
       "    </tr>\n",
       "    <tr>\n",
       "      <td>3</td>\n",
       "      <td>3</td>\n",
       "      <td>0.687000</td>\n",
       "      <td>0.006558</td>\n",
       "      <td>-0.224099</td>\n",
       "      <td>-0.326834</td>\n",
       "      <td>0.005791</td>\n",
       "      <td>0.812051</td>\n",
       "      <td>-0.649746</td>\n",
       "      <td>0.006558</td>\n",
       "      <td>-0.298120</td>\n",
       "      <td>-0.824348</td>\n",
       "    </tr>\n",
       "    <tr>\n",
       "      <td>4</td>\n",
       "      <td>4</td>\n",
       "      <td>0.686400</td>\n",
       "      <td>0.008673</td>\n",
       "      <td>-0.223880</td>\n",
       "      <td>-0.329256</td>\n",
       "      <td>0.007416</td>\n",
       "      <td>0.813514</td>\n",
       "      <td>-0.650370</td>\n",
       "      <td>0.008673</td>\n",
       "      <td>-0.301193</td>\n",
       "      <td>-0.822554</td>\n",
       "    </tr>\n",
       "    <tr>\n",
       "      <td>5</td>\n",
       "      <td>5</td>\n",
       "      <td>0.685800</td>\n",
       "      <td>0.010755</td>\n",
       "      <td>-0.223697</td>\n",
       "      <td>-0.331726</td>\n",
       "      <td>0.008901</td>\n",
       "      <td>0.814964</td>\n",
       "      <td>-0.651065</td>\n",
       "      <td>0.010755</td>\n",
       "      <td>-0.304224</td>\n",
       "      <td>-0.820858</td>\n",
       "    </tr>\n",
       "  </tbody>\n",
       "</table>\n",
       "</div>"
      ],
      "text/plain": [
       "   iteration      cost  l1_n1_w0  l1_n1_w1  l1_n1_w2  l1_n2_w0  l1_n2_w1  \\\n",
       "0          0  0.689134  0.000000 -0.224981 -0.319880  0.000000  0.807590   \n",
       "1          1  0.688400  0.002222 -0.224649 -0.322145  0.002090  0.809090   \n",
       "2          2  0.687700  0.004408 -0.224355 -0.324464  0.004018  0.810577   \n",
       "3          3  0.687000  0.006558 -0.224099 -0.326834  0.005791  0.812051   \n",
       "4          4  0.686400  0.008673 -0.223880 -0.329256  0.007416  0.813514   \n",
       "5          5  0.685800  0.010755 -0.223697 -0.331726  0.008901  0.814964   \n",
       "\n",
       "   l1_n2_w2  l2_n1_w0  l2_n1_w1  l2_n1_w2  \n",
       "0 -0.648327  0.000000 -0.288634 -0.830364  \n",
       "1 -0.648723  0.002222 -0.291841 -0.828248  \n",
       "2 -0.649197  0.004408 -0.295003 -0.826244  \n",
       "3 -0.649746  0.006558 -0.298120 -0.824348  \n",
       "4 -0.650370  0.008673 -0.301193 -0.822554  \n",
       "5 -0.651065  0.010755 -0.304224 -0.820858  "
      ]
     },
     "execution_count": 143,
     "metadata": {},
     "output_type": "execute_result"
    }
   ],
   "source": [
    "df"
   ]
  },
  {
   "cell_type": "code",
   "execution_count": 147,
   "metadata": {},
   "outputs": [
    {
     "data": {
      "text/plain": [
       "array([[ 0.01075477,  0.00890046],\n",
       "       [ 0.678171  , -0.5663714 ],\n",
       "       [-0.20978078, -0.31205958],\n",
       "       [ 0.53848714, -0.750409  ]], dtype=float32)"
      ]
     },
     "execution_count": 147,
     "metadata": {},
     "output_type": "execute_result"
    }
   ],
   "source": [
    "sess.run(layer1, feed_dict={x_: XOR_X, y_: XOR_Y})"
   ]
  },
  {
   "cell_type": "code",
   "execution_count": null,
   "metadata": {},
   "outputs": [],
   "source": []
  },
  {
   "cell_type": "code",
   "execution_count": null,
   "metadata": {},
   "outputs": [],
   "source": []
  }
 ],
 "metadata": {
  "kernelspec": {
   "display_name": "Python 3",
   "language": "python",
   "name": "python3"
  },
  "language_info": {
   "codemirror_mode": {
    "name": "ipython",
    "version": 3
   },
   "file_extension": ".py",
   "mimetype": "text/x-python",
   "name": "python",
   "nbconvert_exporter": "python",
   "pygments_lexer": "ipython3",
   "version": "3.6.7"
  }
 },
 "nbformat": 4,
 "nbformat_minor": 4
}

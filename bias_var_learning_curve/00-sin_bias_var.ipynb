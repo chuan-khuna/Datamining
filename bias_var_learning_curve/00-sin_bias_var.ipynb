{
 "cells": [
  {
   "cell_type": "code",
   "execution_count": 21,
   "metadata": {},
   "outputs": [],
   "source": [
    "import numpy as np\n",
    "import BiasVarv2 as bv\n",
    "import matplotlib.pyplot as plt\n",
    "import random"
   ]
  },
  {
   "cell_type": "code",
   "execution_count": 22,
   "metadata": {},
   "outputs": [],
   "source": [
    "n_res = 100000\n",
    "f = np.sin\n",
    "x = np.linspace(-1, 1, n_res)\n",
    "y = f(np.pi*x)"
   ]
  },
  {
   "cell_type": "code",
   "execution_count": 23,
   "metadata": {},
   "outputs": [],
   "source": [
    "num_model = 100\n",
    "num_sample = 200"
   ]
  },
  {
   "cell_type": "code",
   "execution_count": 24,
   "metadata": {},
   "outputs": [],
   "source": [
    "const_weights = np.array([])\n",
    "for i in range(num_model):\n",
    "    x_sample = np.random.choice(x, num_sample)\n",
    "    y_sample = f(np.pi*x_sample)\n",
    "    const_weights = np.append(const_weights, np.mean(y_sample))"
   ]
  },
  {
   "cell_type": "code",
   "execution_count": 25,
   "metadata": {},
   "outputs": [
    {
     "data": {
      "text/plain": [
       "array([-0.04941966, -0.07714995, -0.08188203, -0.00396838, -0.01445887,\n",
       "        0.02788828,  0.03160407,  0.03861514, -0.03335748, -0.03887668,\n",
       "       -0.00537493,  0.03080196,  0.00677034, -0.07955696, -0.01027266,\n",
       "       -0.02158459, -0.02624271,  0.03690312, -0.01837489,  0.04901507,\n",
       "       -0.02772112, -0.00164859, -0.00215438, -0.01005171,  0.00476668,\n",
       "       -0.01496284, -0.00450727, -0.15541686,  0.06468289, -0.07414164,\n",
       "        0.01996007, -0.0547431 , -0.05203535,  0.03859969, -0.09137182,\n",
       "       -0.00762811,  0.06367354, -0.09170105,  0.04021119,  0.02658322,\n",
       "        0.07436414, -0.03008157,  0.01618067,  0.04353159, -0.02730505,\n",
       "        0.02364652,  0.0088676 ,  0.04559064,  0.02298368,  0.04804188,\n",
       "       -0.05115914,  0.05575455,  0.05871934, -0.1393034 , -0.01689636,\n",
       "       -0.07469754,  0.06140756,  0.06782483, -0.05766207,  0.00835863,\n",
       "        0.05487102,  0.05791587,  0.01901512, -0.07317997,  0.01835257,\n",
       "        0.03105939,  0.02027145, -0.10491951,  0.00315928, -0.02428772,\n",
       "       -0.04383203, -0.03865768,  0.04929668,  0.02984217, -0.01866938,\n",
       "        0.00345722, -0.06484086,  0.01398838,  0.01770538, -0.04135142,\n",
       "        0.04970911,  0.05364869, -0.01361669, -0.04691495,  0.01114781,\n",
       "        0.02519108, -0.07596533, -0.03616483, -0.03567805, -0.05016443,\n",
       "        0.07847717,  0.05177819,  0.00783279,  0.00727665,  0.03444664,\n",
       "        0.02654148,  0.00092203,  0.05496436,  0.05146091, -0.016539  ])"
      ]
     },
     "execution_count": 25,
     "metadata": {},
     "output_type": "execute_result"
    }
   ],
   "source": [
    "const_weights"
   ]
  },
  {
   "cell_type": "code",
   "execution_count": 26,
   "metadata": {},
   "outputs": [
    {
     "name": "stdout",
     "output_type": "stream",
     "text": [
      "g bar -0.00343\n"
     ]
    },
    {
     "data": {
      "text/plain": [
       "<matplotlib.collections.LineCollection at 0x1fac701e898>"
      ]
     },
     "execution_count": 26,
     "metadata": {},
     "output_type": "execute_result"
    },
    {
     "data": {
      "image/png": "[encoded data removed]",
      "text/plain": [
       "<matplotlib.figure.Figure at 0x1fac701e4e0>"
      ]
     },
     "metadata": {
      "needs_background": "light"
     },
     "output_type": "display_data"
    }
   ],
   "source": [
    "plt.hlines(const_weights, -1, 1, alpha=0.1)\n",
    "const_gavg = np.mean(const_weights)\n",
    "print('g bar', round(const_gavg, 5))\n",
    "plt.hlines(const_gavg, -1, 1, color='blue')"
   ]
  },
  {
   "cell_type": "code",
   "execution_count": 27,
   "metadata": {},
   "outputs": [],
   "source": [
    "const_bias = bv.cal_bias(const_gavg, y)"
   ]
  },
  {
   "cell_type": "code",
   "execution_count": 28,
   "metadata": {},
   "outputs": [],
   "source": [
    "const_var = np.mean((const_weights - const_gavg)**2)"
   ]
  },
  {
   "cell_type": "code",
   "execution_count": 29,
   "metadata": {},
   "outputs": [
    {
     "data": {
      "text/plain": [
       "0.0023469525940723775"
      ]
     },
     "execution_count": 29,
     "metadata": {},
     "output_type": "execute_result"
    }
   ],
   "source": [
    "const_var"
   ]
  },
  {
   "cell_type": "code",
   "execution_count": null,
   "metadata": {},
   "outputs": [],
   "source": []
  },
  {
   "cell_type": "code",
   "execution_count": 30,
   "metadata": {},
   "outputs": [],
   "source": [
    "fi = random.sample(range(n_res), num_model)\n",
    "si = random.sample(range(n_res), num_model)"
   ]
  },
  {
   "cell_type": "code",
   "execution_count": 31,
   "metadata": {},
   "outputs": [
    {
     "data": {
      "text/plain": [
       "False"
      ]
     },
     "execution_count": 31,
     "metadata": {},
     "output_type": "execute_result"
    }
   ],
   "source": [
    "fi == si"
   ]
  },
  {
   "cell_type": "code",
   "execution_count": 32,
   "metadata": {},
   "outputs": [],
   "source": [
    "lin_weights = []\n",
    "for i in range(num_model):\n",
    "    x1 = x[fi[i]]\n",
    "    y1 = y[fi[i]]\n",
    "    while fi[i] == si[i]:\n",
    "        # random agian if same index\n",
    "        si[i] = random.randint(0, len(fi)-1)\n",
    "    x2 = x[si[i]]\n",
    "    y2 = y[si[i]]\n",
    "    \n",
    "    m = (y1 - y2)/(x1 - x2)\n",
    "    c = y1 - m*x1\n",
    "    model_w = [c, m]\n",
    "    lin_weights.append(model_w)\n",
    "lin_weights = np.array(lin_weights)"
   ]
  },
  {
   "cell_type": "code",
   "execution_count": 33,
   "metadata": {},
   "outputs": [],
   "source": [
    "x_aug = np.array([[1, i] for i in x])"
   ]
  },
  {
   "cell_type": "code",
   "execution_count": 34,
   "metadata": {},
   "outputs": [],
   "source": [
    "lin_res = np.array([[i.dot(x_aug.T) for i in lin_weights]])"
   ]
  },
  {
   "cell_type": "code",
   "execution_count": 35,
   "metadata": {},
   "outputs": [
    {
     "data": {
      "text/plain": [
       "array([-0.01732218,  1.04518249])"
      ]
     },
     "execution_count": 35,
     "metadata": {},
     "output_type": "execute_result"
    }
   ],
   "source": [
    "lin_gavg = np.mean(lin_weights, axis=0)\n",
    "lin_gavg"
   ]
  },
  {
   "cell_type": "code",
   "execution_count": 36,
   "metadata": {},
   "outputs": [],
   "source": [
    "lin_bias = bv.cal_bias(lin_gavg.dot(x_aug.T), y)"
   ]
  },
  {
   "cell_type": "code",
   "execution_count": 37,
   "metadata": {},
   "outputs": [],
   "source": [
    "lin_var = bv.cal_variance(lin_res, lin_gavg.dot(x_aug.T))"
   ]
  },
  {
   "cell_type": "code",
   "execution_count": 38,
   "metadata": {},
   "outputs": [
    {
     "data": {
      "text/plain": [
       "(0.19906, 1.25342)"
      ]
     },
     "execution_count": 38,
     "metadata": {},
     "output_type": "execute_result"
    }
   ],
   "source": [
    "lin_bias, lin_var"
   ]
  },
  {
   "cell_type": "code",
   "execution_count": 39,
   "metadata": {},
   "outputs": [
    {
     "data": {
      "text/plain": [
       "array([-0.04941966, -0.07714995, -0.08188203, -0.00396838, -0.01445887,\n",
       "        0.02788828,  0.03160407,  0.03861514, -0.03335748, -0.03887668,\n",
       "       -0.00537493,  0.03080196,  0.00677034, -0.07955696, -0.01027266,\n",
       "       -0.02158459, -0.02624271,  0.03690312, -0.01837489,  0.04901507,\n",
       "       -0.02772112, -0.00164859, -0.00215438, -0.01005171,  0.00476668,\n",
       "       -0.01496284, -0.00450727, -0.15541686,  0.06468289, -0.07414164,\n",
       "        0.01996007, -0.0547431 , -0.05203535,  0.03859969, -0.09137182,\n",
       "       -0.00762811,  0.06367354, -0.09170105,  0.04021119,  0.02658322,\n",
       "        0.07436414, -0.03008157,  0.01618067,  0.04353159, -0.02730505,\n",
       "        0.02364652,  0.0088676 ,  0.04559064,  0.02298368,  0.04804188,\n",
       "       -0.05115914,  0.05575455,  0.05871934, -0.1393034 , -0.01689636,\n",
       "       -0.07469754,  0.06140756,  0.06782483, -0.05766207,  0.00835863,\n",
       "        0.05487102,  0.05791587,  0.01901512, -0.07317997,  0.01835257,\n",
       "        0.03105939,  0.02027145, -0.10491951,  0.00315928, -0.02428772,\n",
       "       -0.04383203, -0.03865768,  0.04929668,  0.02984217, -0.01866938,\n",
       "        0.00345722, -0.06484086,  0.01398838,  0.01770538, -0.04135142,\n",
       "        0.04970911,  0.05364869, -0.01361669, -0.04691495,  0.01114781,\n",
       "        0.02519108, -0.07596533, -0.03616483, -0.03567805, -0.05016443,\n",
       "        0.07847717,  0.05177819,  0.00783279,  0.00727665,  0.03444664,\n",
       "        0.02654148,  0.00092203,  0.05496436,  0.05146091, -0.016539  ])"
      ]
     },
     "execution_count": 39,
     "metadata": {},
     "output_type": "execute_result"
    }
   ],
   "source": [
    "const_weights"
   ]
  },
  {
   "cell_type": "code",
   "execution_count": null,
   "metadata": {},
   "outputs": [],
   "source": []
  },
  {
   "cell_type": "code",
   "execution_count": null,
   "metadata": {},
   "outputs": [],
   "source": []
  },
  {
   "cell_type": "code",
   "execution_count": null,
   "metadata": {},
   "outputs": [],
   "source": []
  },
  {
   "cell_type": "code",
   "execution_count": null,
   "metadata": {},
   "outputs": [],
   "source": []
  }
 ],
 "metadata": {
  "kernelspec": {
   "display_name": "Python 3",
   "language": "python",
   "name": "python3"
  },
  "language_info": {
   "codemirror_mode": {
    "name": "ipython",
    "version": 3
   },
   "file_extension": ".py",
   "mimetype": "text/x-python",
   "name": "python",
   "nbconvert_exporter": "python",
   "pygments_lexer": "ipython3",
   "version": "3.6.7"
  }
 },
 "nbformat": 4,
 "nbformat_minor": 4
}

{
 "cells": [
  {
   "cell_type": "code",
   "execution_count": 70,
   "metadata": {},
   "outputs": [],
   "source": [
    "import numpy as np\n",
    "import BiasVarv2 as bv\n",
    "import matplotlib.pyplot as plt\n",
    "import random"
   ]
  },
  {
   "cell_type": "code",
   "execution_count": 71,
   "metadata": {},
   "outputs": [],
   "source": [
    "n_res = 100000\n",
    "f = np.sin\n",
    "x = np.linspace(-1, 1, n_res)\n",
    "y = f(np.pi*x)"
   ]
  },
  {
   "cell_type": "code",
   "execution_count": 126,
   "metadata": {},
   "outputs": [],
   "source": [
    "num_model = 100\n",
    "num_sample = 200"
   ]
  },
  {
   "cell_type": "code",
   "execution_count": 127,
   "metadata": {},
   "outputs": [],
   "source": [
    "const_weights = np.array([])\n",
    "for i in range(num_model):\n",
    "    x_sample = np.random.choice(x, num_sample)\n",
    "    y_sample = f(np.pi*x_sample)\n",
    "    const_weights = np.append(const_weights, np.mean(y_sample))"
   ]
  },
  {
   "cell_type": "code",
   "execution_count": 128,
   "metadata": {},
   "outputs": [
    {
     "data": {
      "text/plain": [
       "array([-0.07164346,  0.01058121, -0.0113899 ,  0.04955783,  0.03502294,\n",
       "        0.03733634,  0.03094338, -0.00666026,  0.03343142, -0.00953376,\n",
       "        0.01796175, -0.01585986,  0.02024203, -0.0701745 ,  0.02340954,\n",
       "        0.02929211, -0.06304583, -0.00759675, -0.03755301, -0.01679281,\n",
       "       -0.00780313, -0.00666289,  0.03971709,  0.04075234, -0.02879282,\n",
       "       -0.03542756,  0.02655505, -0.04580727, -0.01167059, -0.02806265,\n",
       "        0.05798155, -0.0809    ,  0.07672041, -0.13434435, -0.06065244,\n",
       "        0.01074194,  0.03523977, -0.10932516,  0.04989315,  0.05977413,\n",
       "       -0.00569336, -0.02467149, -0.00933722,  0.00702272,  0.04812041,\n",
       "        0.00242097, -0.08052426,  0.04183864,  0.06463339, -0.06162516,\n",
       "        0.05164492,  0.0351984 ,  0.03026771,  0.04867798, -0.02357179,\n",
       "       -0.01843293, -0.11199112,  0.01632865, -0.03916517,  0.11307164,\n",
       "        0.03443243,  0.0212752 , -0.00365428, -0.01108093,  0.00035733,\n",
       "        0.02925469, -0.01277443, -0.14901527,  0.02188072,  0.05055174,\n",
       "        0.00616688,  0.00161567,  0.03117581,  0.00345023, -0.00454229,\n",
       "        0.04626006,  0.04710468,  0.00183932,  0.02378567,  0.07817133,\n",
       "        0.02628712,  0.01682714, -0.1393753 , -0.00506543, -0.01896686,\n",
       "       -0.03518366,  0.02349642, -0.04547203,  0.00625655,  0.01155637,\n",
       "       -0.0617381 , -0.03947214,  0.04397312, -0.02730748,  0.00372469,\n",
       "       -0.00201051, -0.03214028,  0.05437731,  0.06319192, -0.00679244])"
      ]
     },
     "execution_count": 128,
     "metadata": {},
     "output_type": "execute_result"
    }
   ],
   "source": [
    "const_weights"
   ]
  },
  {
   "cell_type": "code",
   "execution_count": 129,
   "metadata": {},
   "outputs": [
    {
     "name": "stdout",
     "output_type": "stream",
     "text": [
      "g bar -0.00038\n"
     ]
    },
    {
     "data": {
      "text/plain": [
       "<matplotlib.collections.LineCollection at 0x2070c4ff908>"
      ]
     },
     "execution_count": 129,
     "metadata": {},
     "output_type": "execute_result"
    },
    {
     "data": {
      "image/png": "[encoded data removed]",
      "text/plain": [
       "<Figure size 432x288 with 1 Axes>"
      ]
     },
     "metadata": {
      "needs_background": "light"
     },
     "output_type": "display_data"
    }
   ],
   "source": [
    "plt.hlines(const_weights, -1, 1, alpha=0.1)\n",
    "const_gavg = np.mean(const_weights)\n",
    "print('g bar', round(const_gavg, 5))\n",
    "plt.hlines(const_gavg, -1, 1, color='blue')"
   ]
  },
  {
   "cell_type": "code",
   "execution_count": 130,
   "metadata": {},
   "outputs": [],
   "source": [
    "const_bias = bv.cal_bias(const_gavg, y)"
   ]
  },
  {
   "cell_type": "code",
   "execution_count": 131,
   "metadata": {},
   "outputs": [],
   "source": [
    "const_var = np.mean((const_weights - const_gavg)**2)"
   ]
  },
  {
   "cell_type": "code",
   "execution_count": 132,
   "metadata": {},
   "outputs": [
    {
     "data": {
      "text/plain": [
       "0.00227284782984037"
      ]
     },
     "execution_count": 132,
     "metadata": {},
     "output_type": "execute_result"
    }
   ],
   "source": [
    "const_var"
   ]
  },
  {
   "cell_type": "code",
   "execution_count": null,
   "metadata": {},
   "outputs": [],
   "source": []
  },
  {
   "cell_type": "code",
   "execution_count": 133,
   "metadata": {},
   "outputs": [],
   "source": [
    "fi = random.sample(range(n_res), num_model)\n",
    "si = random.sample(range(n_res), num_model)"
   ]
  },
  {
   "cell_type": "code",
   "execution_count": 134,
   "metadata": {},
   "outputs": [
    {
     "data": {
      "text/plain": [
       "False"
      ]
     },
     "execution_count": 134,
     "metadata": {},
     "output_type": "execute_result"
    }
   ],
   "source": [
    "fi == si"
   ]
  },
  {
   "cell_type": "code",
   "execution_count": 135,
   "metadata": {},
   "outputs": [],
   "source": [
    "lin_weights = []\n",
    "for i in range(num_model):\n",
    "    x1 = x[fi[i]]\n",
    "    y1 = y[fi[i]]\n",
    "    while fi[i] == si[i]:\n",
    "        # random agian if same index\n",
    "        si[i] = random.randint(0, len(fi)-1)\n",
    "    x2 = x[si[i]]\n",
    "    y2 = y[si[i]]\n",
    "    \n",
    "    m = (y1 - y2)/(x1 - x2)\n",
    "    c = y1 - m*x1\n",
    "    model_w = [c, m]\n",
    "    lin_weights.append(model_w)\n",
    "lin_weights = np.array(lin_weights)"
   ]
  },
  {
   "cell_type": "code",
   "execution_count": 136,
   "metadata": {},
   "outputs": [],
   "source": [
    "x_aug = np.array([[1, i] for i in x])"
   ]
  },
  {
   "cell_type": "code",
   "execution_count": 137,
   "metadata": {},
   "outputs": [],
   "source": [
    "lin_res = np.array([[i.dot(x_aug.T) for i in lin_weights]])"
   ]
  },
  {
   "cell_type": "code",
   "execution_count": 138,
   "metadata": {},
   "outputs": [
    {
     "data": {
      "text/plain": [
       "array([-0.18575926,  0.86215586])"
      ]
     },
     "execution_count": 138,
     "metadata": {},
     "output_type": "execute_result"
    }
   ],
   "source": [
    "lin_gavg = np.mean(lin_weights, axis=0)\n",
    "lin_gavg"
   ]
  },
  {
   "cell_type": "code",
   "execution_count": 139,
   "metadata": {},
   "outputs": [],
   "source": [
    "lin_bias = bv.cal_bias(lin_gavg.dot(x_aug.T), y)"
   ]
  },
  {
   "cell_type": "code",
   "execution_count": 140,
   "metadata": {},
   "outputs": [],
   "source": [
    "lin_var = bv.cal_variance(lin_res, lin_gavg.dot(x_aug.T))"
   ]
  },
  {
   "cell_type": "code",
   "execution_count": 141,
   "metadata": {},
   "outputs": [
    {
     "data": {
      "text/plain": [
       "(0.23342, 1.39719)"
      ]
     },
     "execution_count": 141,
     "metadata": {},
     "output_type": "execute_result"
    }
   ],
   "source": [
    "lin_bias, lin_var"
   ]
  },
  {
   "cell_type": "code",
   "execution_count": 142,
   "metadata": {},
   "outputs": [
    {
     "data": {
      "text/plain": [
       "array([-0.07164346,  0.01058121, -0.0113899 ,  0.04955783,  0.03502294,\n",
       "        0.03733634,  0.03094338, -0.00666026,  0.03343142, -0.00953376,\n",
       "        0.01796175, -0.01585986,  0.02024203, -0.0701745 ,  0.02340954,\n",
       "        0.02929211, -0.06304583, -0.00759675, -0.03755301, -0.01679281,\n",
       "       -0.00780313, -0.00666289,  0.03971709,  0.04075234, -0.02879282,\n",
       "       -0.03542756,  0.02655505, -0.04580727, -0.01167059, -0.02806265,\n",
       "        0.05798155, -0.0809    ,  0.07672041, -0.13434435, -0.06065244,\n",
       "        0.01074194,  0.03523977, -0.10932516,  0.04989315,  0.05977413,\n",
       "       -0.00569336, -0.02467149, -0.00933722,  0.00702272,  0.04812041,\n",
       "        0.00242097, -0.08052426,  0.04183864,  0.06463339, -0.06162516,\n",
       "        0.05164492,  0.0351984 ,  0.03026771,  0.04867798, -0.02357179,\n",
       "       -0.01843293, -0.11199112,  0.01632865, -0.03916517,  0.11307164,\n",
       "        0.03443243,  0.0212752 , -0.00365428, -0.01108093,  0.00035733,\n",
       "        0.02925469, -0.01277443, -0.14901527,  0.02188072,  0.05055174,\n",
       "        0.00616688,  0.00161567,  0.03117581,  0.00345023, -0.00454229,\n",
       "        0.04626006,  0.04710468,  0.00183932,  0.02378567,  0.07817133,\n",
       "        0.02628712,  0.01682714, -0.1393753 , -0.00506543, -0.01896686,\n",
       "       -0.03518366,  0.02349642, -0.04547203,  0.00625655,  0.01155637,\n",
       "       -0.0617381 , -0.03947214,  0.04397312, -0.02730748,  0.00372469,\n",
       "       -0.00201051, -0.03214028,  0.05437731,  0.06319192, -0.00679244])"
      ]
     },
     "execution_count": 142,
     "metadata": {},
     "output_type": "execute_result"
    }
   ],
   "source": [
    "const_weights"
   ]
  },
  {
   "cell_type": "code",
   "execution_count": 144,
   "metadata": {},
   "outputs": [
    {
     "data": {
      "text/plain": [
       "0.5022677999999999"
      ]
     },
     "execution_count": 144,
     "metadata": {},
     "output_type": "execute_result"
    }
   ],
   "source": [
    "eouts = []\n",
    "for i in const_weights:\n",
    "    eout = bv.cal_e_out(i, y)\n",
    "    eouts.append(eout)\n",
    "np.mean(eins)"
   ]
  },
  {
   "cell_type": "code",
   "execution_count": null,
   "metadata": {},
   "outputs": [],
   "source": []
  },
  {
   "cell_type": "code",
   "execution_count": null,
   "metadata": {},
   "outputs": [],
   "source": []
  },
  {
   "cell_type": "code",
   "execution_count": null,
   "metadata": {},
   "outputs": [],
   "source": []
  },
  {
   "cell_type": "code",
   "execution_count": null,
   "metadata": {},
   "outputs": [],
   "source": []
  }
 ],
 "metadata": {
  "kernelspec": {
   "display_name": "Python 3",
   "language": "python",
   "name": "python3"
  },
  "language_info": {
   "codemirror_mode": {
    "name": "ipython",
    "version": 3
   },
   "file_extension": ".py",
   "mimetype": "text/x-python",
   "name": "python",
   "nbconvert_exporter": "python",
   "pygments_lexer": "ipython3",
   "version": "3.6.7"
  }
 },
 "nbformat": 4,
 "nbformat_minor": 4
}
